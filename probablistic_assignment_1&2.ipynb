{
 "cells": [
  {
   "cell_type": "code",
   "execution_count": 1,
   "id": "ec931bbc-387a-4aa3-bc6c-7cf1a483779f",
   "metadata": {},
   "outputs": [
    {
     "name": "stdout",
     "output_type": "stream",
     "text": [
      "Requirement already satisfied: matplotlib-venn in c:\\users\\mohammad rihan\\anaconda3\\lib\\site-packages (1.1.2)\n",
      "Requirement already satisfied: matplotlib in c:\\users\\mohammad rihan\\anaconda3\\lib\\site-packages (from matplotlib-venn) (3.8.4)\n",
      "Requirement already satisfied: numpy in c:\\users\\mohammad rihan\\anaconda3\\lib\\site-packages (from matplotlib-venn) (1.26.4)\n",
      "Requirement already satisfied: scipy in c:\\users\\mohammad rihan\\anaconda3\\lib\\site-packages (from matplotlib-venn) (1.13.1)\n",
      "Requirement already satisfied: contourpy>=1.0.1 in c:\\users\\mohammad rihan\\anaconda3\\lib\\site-packages (from matplotlib->matplotlib-venn) (1.2.0)\n",
      "Requirement already satisfied: cycler>=0.10 in c:\\users\\mohammad rihan\\anaconda3\\lib\\site-packages (from matplotlib->matplotlib-venn) (0.11.0)\n",
      "Requirement already satisfied: fonttools>=4.22.0 in c:\\users\\mohammad rihan\\anaconda3\\lib\\site-packages (from matplotlib->matplotlib-venn) (4.51.0)\n",
      "Requirement already satisfied: kiwisolver>=1.3.1 in c:\\users\\mohammad rihan\\anaconda3\\lib\\site-packages (from matplotlib->matplotlib-venn) (1.4.4)\n",
      "Requirement already satisfied: packaging>=20.0 in c:\\users\\mohammad rihan\\anaconda3\\lib\\site-packages (from matplotlib->matplotlib-venn) (23.2)\n",
      "Requirement already satisfied: pillow>=8 in c:\\users\\mohammad rihan\\anaconda3\\lib\\site-packages (from matplotlib->matplotlib-venn) (10.3.0)\n",
      "Requirement already satisfied: pyparsing>=2.3.1 in c:\\users\\mohammad rihan\\anaconda3\\lib\\site-packages (from matplotlib->matplotlib-venn) (3.0.9)\n",
      "Requirement already satisfied: python-dateutil>=2.7 in c:\\users\\mohammad rihan\\anaconda3\\lib\\site-packages (from matplotlib->matplotlib-venn) (2.9.0.post0)\n",
      "Requirement already satisfied: six>=1.5 in c:\\users\\mohammad rihan\\anaconda3\\lib\\site-packages (from python-dateutil>=2.7->matplotlib->matplotlib-venn) (1.16.0)\n"
     ]
    }
   ],
   "source": [
    "!pip install matplotlib-venn"
   ]
  },
  {
   "cell_type": "markdown",
   "id": "ae4107c2",
   "metadata": {},
   "source": [
    "# 📊 Statistics and Probability Assignment\n",
    "---"
   ]
  },
  {
   "cell_type": "markdown",
   "id": "161b3271",
   "metadata": {},
   "source": [
    "## **ASSIGNMENT – 1**"
   ]
  },
  {
   "cell_type": "markdown",
   "id": "e9aed9e6",
   "metadata": {},
   "source": [
    "### Q1. The prices of five bikes in a shop are ₹12,000, ₹15,000, ₹18,000, ₹20,000, ₹50,000  \n",
    "(a) What is the mean price of a bike?  \n",
    "(b) What is the median price of a bike?  \n",
    "(c) If the shop owner wants to make the bikes seem affordable, which 'average' (mean or median) should they advertise? Why?\n"
   ]
  },
  {
   "cell_type": "code",
   "execution_count": 1,
   "id": "07b47d54",
   "metadata": {},
   "outputs": [
    {
     "name": "stdout",
     "output_type": "stream",
     "text": [
      "Answer Q1(a): Mean price of a bike = ₹ 23000.0\n",
      "Answer Q1(b): Median price of a bike = ₹ 18000.0\n",
      "Answer Q1(c): The shop owner should advertise the median (₹18,000) as it represents the typical price better.\n"
     ]
    }
   ],
   "source": [
    "\n",
    "import numpy as np\n",
    "\n",
    "bike_prices = [12000, 15000, 18000, 20000, 50000]\n",
    "mean_bike = np.mean(bike_prices)\n",
    "median_bike = np.median(bike_prices)\n",
    "\n",
    "print(\"Answer Q1(a): Mean price of a bike = ₹\", mean_bike)\n",
    "print(\"Answer Q1(b): Median price of a bike = ₹\", median_bike)\n",
    "print(\"Answer Q1(c): The shop owner should advertise the median (₹18,000) as it represents the typical price better.\")\n"
   ]
  },
  {
   "cell_type": "markdown",
   "id": "cbf0e1fb",
   "metadata": {},
   "source": [
    "### Q2. Describe the relationship between a histogram's shape and the values of its mean, median, and mode in a left-skewed distribution."
   ]
  },
  {
   "cell_type": "code",
   "execution_count": 37,
   "id": "d0779112-0075-4e4b-bcb0-33e3bdb8b8da",
   "metadata": {},
   "outputs": [
    {
     "name": "stdout",
     "output_type": "stream",
     "text": [
      "Answer Q2: In a left-skewed (negatively skewed) distribution → Mean < Median < Mode.\n"
     ]
    }
   ],
   "source": [
    "print(\"Answer Q2: In a left-skewed (negatively skewed) distribution → Mean < Median < Mode.\")\n"
   ]
  },
  {
   "cell_type": "markdown",
   "id": "a60e3fe3",
   "metadata": {},
   "source": [
    "### Q3. Exam Scores  \n",
    "The following data represents the exam scores (out of 100) for 10 students:  \n",
    "85, 92, 78, 90, 85, 67, 88, 95, 85, 72  \n",
    "(a) Calculate the mean, median, and mode for this data.  \n",
    "(b) Based on your values, describe the shape of the distribution.  \n",
    "(c) Find the Five-Number Summary.\n"
   ]
  },
  {
   "cell_type": "code",
   "execution_count": 7,
   "id": "48a039af",
   "metadata": {},
   "outputs": [
    {
     "name": "stdout",
     "output_type": "stream",
     "text": [
      "Answer Q3(a): Mean = 83.7 , Median = 85.0 , Mode = 85\n",
      "Answer Q3(b): Since Mean < Median = Mode, the data is slightly left-skewed.\n",
      "Answer Q3(c): Five-Number Summary = (Min: 67 , Q1: 79.75 , Median: 85.0 , Q3: 89.5 , Max: 95 )\n"
     ]
    }
   ],
   "source": [
    "\n",
    "import pandas as pd\n",
    "\n",
    "scores = [85, 92, 78, 90, 85, 67, 88, 95, 85, 72]\n",
    "\n",
    "mean_score = np.mean(scores)\n",
    "median_score = np.median(scores)\n",
    "mode_score = pd.Series(scores).mode()[0]\n",
    "\n",
    "min_score = np.min(scores)\n",
    "q1 = np.percentile(scores, 25)\n",
    "q3 = np.percentile(scores, 75)\n",
    "max_score = np.max(scores)\n",
    "\n",
    "print(\"Answer Q3(a): Mean =\", mean_score, \", Median =\", median_score, \", Mode =\", mode_score)\n",
    "print(\"Answer Q3(b): Since Mean < Median = Mode, the data is slightly left-skewed.\")\n",
    "print(\"Answer Q3(c): Five-Number Summary = (Min:\", min_score, \", Q1:\", q1, \", Median:\", median_score, \", Q3:\", q3, \", Max:\", max_score, \")\")\n"
   ]
  },
  {
   "cell_type": "markdown",
   "id": "766078ed",
   "metadata": {},
   "source": [
    "### Q4. Differentiate between a population parameter and a sample statistic with an example of each.\n"
   ]
  },
  {
   "cell_type": "code",
   "execution_count": 10,
   "id": "8cc04a15",
   "metadata": {},
   "outputs": [
    {
     "name": "stdout",
     "output_type": "stream",
     "text": [
      "Answer Q4:\n",
      "• Population Parameter: Describes the entire population. Example – Average height of all university students.\n",
      "• Sample Statistic: Describes a sample from the population. Example – Average height of 50 randomly chosen students.\n"
     ]
    }
   ],
   "source": [
    "\n",
    "print(\"Answer Q4:\")\n",
    "print(\"• Population Parameter: Describes the entire population. Example – Average height of all university students.\")\n",
    "print(\"• Sample Statistic: Describes a sample from the population. Example – Average height of 50 randomly chosen students.\")\n"
   ]
  },
  {
   "cell_type": "markdown",
   "id": "994d895e",
   "metadata": {},
   "source": [
    "### Q5. A small company has 5 employees with salaries: $45,000, $50,000, $55,000, $60,000, $250,000  \n",
    "(a) Calculate the mean and median salary.  \n",
    "(b) The company wants to attract new hires by advertising the 'average' salary. Which measure would they likely use? Which measure would a potential employee prefer?\n"
   ]
  },
  {
   "cell_type": "code",
   "execution_count": 13,
   "id": "291e2fb1",
   "metadata": {},
   "outputs": [
    {
     "name": "stdout",
     "output_type": "stream",
     "text": [
      "Answer Q5(a): Mean = 92000.0 , Median = 55000.0\n",
      "Answer Q5(b): The company will advertise the mean ($92,000) to look higher, but employees prefer the median ($55,000) as it’s more realistic.\n"
     ]
    }
   ],
   "source": [
    "\n",
    "salaries = [45000, 50000, 55000, 60000, 250000]\n",
    "mean_salary = np.mean(salaries)\n",
    "median_salary = np.median(salaries)\n",
    "\n",
    "print(\"Answer Q5(a): Mean =\", mean_salary, \", Median =\", median_salary)\n",
    "print(\"Answer Q5(b): The company will advertise the mean ($92,000) to look higher, but employees prefer the median ($55,000) as it’s more realistic.\")\n"
   ]
  },
  {
   "cell_type": "markdown",
   "id": "bd214bf1",
   "metadata": {},
   "source": [
    "### Q7. Graphical Representation  \n",
    "A quick survey of 20 students about their preferred mode of learning yielded the following data:  \n",
    "(H: Hybrid, O: Online, F: Face-to-Face)  \n",
    "Raw Data: F, H, O, F, F, O, H, F, O, F, H, F, F, F, O, H, O, F, H, F  \n",
    "(a) Organize into a Frequency Table.  \n",
    "(b) Create a Bar Chart.  \n",
    "(c) Identify the most popular mode and percentage.  \n",
    "(d) Why is a Histogram not suitable?\n"
   ]
  },
  {
   "cell_type": "code",
   "execution_count": 16,
   "id": "a2fb1fa4",
   "metadata": {},
   "outputs": [
    {
     "name": "stdout",
     "output_type": "stream",
     "text": [
      "Answer Q7(a): Frequency Table\n",
      "F    10\n",
      "H     5\n",
      "O     5\n",
      "Name: count, dtype: int64\n"
     ]
    },
    {
     "data": {
      "image/png": "[encoded data removed]",
      "text/plain": [
       "<Figure size 600x400 with 1 Axes>"
      ]
     },
     "metadata": {},
     "output_type": "display_data"
    },
    {
     "name": "stdout",
     "output_type": "stream",
     "text": [
      "Answer Q7(c): Most popular mode = F (Face-to-Face) → 50.0 % students prefer it.\n",
      "Answer Q7(d): Histogram is unsuitable since data is categorical, not numerical.\n"
     ]
    }
   ],
   "source": [
    "\n",
    "import matplotlib.pyplot as plt\n",
    "\n",
    "data = ['F','H','O','F','F','O','H','F','O','F','H','F','F','F','O','H','O','F','H','F']\n",
    "freq_table = pd.Series(data).value_counts()\n",
    "total = len(data)\n",
    "\n",
    "print(\"Answer Q7(a): Frequency Table\")\n",
    "print(freq_table)\n",
    "\n",
    "plt.figure(figsize=(6,4))\n",
    "plt.bar(freq_table.index, freq_table.values, color=['skyblue','orange','green'])\n",
    "plt.title(\"Preferred Mode of Learning\")\n",
    "plt.xlabel(\"Learning Mode\")\n",
    "plt.ylabel(\"Number of Students\")\n",
    "plt.show()\n",
    "\n",
    "print(\"Answer Q7(c): Most popular mode = F (Face-to-Face) →\", round(freq_table['F']/total*100,2), \"% students prefer it.\")\n",
    "print(\"Answer Q7(d): Histogram is unsuitable since data is categorical, not numerical.\")\n"
   ]
  },
  {
   "cell_type": "markdown",
   "id": "4ae25f91",
   "metadata": {},
   "source": [
    "# 🧮 ASSIGNMENT – 2\n",
    "---"
   ]
  },
  {
   "cell_type": "markdown",
   "id": "02c3e4f6",
   "metadata": {},
   "source": [
    "### Q1. A jar contains 5 red and 7 blue marbles. Two marbles are drawn without replacement.  \n",
    "Find the probability that the second marble is red, given the first was blue.\n"
   ]
  },
  {
   "cell_type": "code",
   "execution_count": 19,
   "id": "2ae4b892",
   "metadata": {},
   "outputs": [
    {
     "name": "stdout",
     "output_type": "stream",
     "text": [
      "Answer Q1: Probability = 0.45454545454545453\n"
     ]
    }
   ],
   "source": [
    "\n",
    "p_second_red_given_first_blue = 5/11\n",
    "print(\"Answer Q1: Probability =\", p_second_red_given_first_blue)\n"
   ]
  },
  {
   "cell_type": "markdown",
   "id": "409282c3",
   "metadata": {},
   "source": [
    "### Q2. Blood Test Problem (Bayes' Theorem)  \n",
    "95% of diseased people test positive.  \n",
    "2% of healthy people also test positive (false positive).  \n",
    "1% of population has the disease.  \n",
    "Find P(Disease | Test Positive).\n"
   ]
  },
  {
   "cell_type": "code",
   "execution_count": 21,
   "id": "bd006138",
   "metadata": {},
   "outputs": [
    {
     "name": "stdout",
     "output_type": "stream",
     "text": [
      "Answer Q2: P(Disease | Test Positive) = 0.324 → 32.4%\n"
     ]
    }
   ],
   "source": [
    "\n",
    "p_d = 0.01\n",
    "p_t_given_d = 0.95\n",
    "p_t_given_not_d = 0.02\n",
    "p_not_d = 1 - p_d\n",
    "p_d_given_t = (p_t_given_d*p_d) / ((p_t_given_d*p_d) + (p_t_given_not_d*p_not_d))\n",
    "\n",
    "print(\"Answer Q2: P(Disease | Test Positive) =\", round(p_d_given_t,3), \"→ 32.4%\")\n"
   ]
  },
  {
   "cell_type": "markdown",
   "id": "e5c03f0d",
   "metadata": {},
   "source": [
    "### Q3. Doctor revises his belief after test  \n",
    "Doctor initially believes 30% chance of disease. After test (same test stats), update probability.\n"
   ]
  },
  {
   "cell_type": "code",
   "execution_count": 26,
   "id": "7eb31b3b",
   "metadata": {},
   "outputs": [
    {
     "name": "stdout",
     "output_type": "stream",
     "text": [
      "Answer Q3: Revised probability after test = 0.953 → 95.3%\n"
     ]
    }
   ],
   "source": [
    "\n",
    "p_d_prior = 0.3\n",
    "p_not_d_prior = 1 - p_d_prior\n",
    "p_d_given_t_revised = (p_t_given_d*p_d_prior) / ((p_t_given_d*p_d_prior) + (p_t_given_not_d*p_not_d_prior))\n",
    "\n",
    "print(\"Answer Q3: Revised probability after test =\", round(p_d_given_t_revised,3), \"→ 95.3%\")\n"
   ]
  },
  {
   "cell_type": "markdown",
   "id": "4821934f",
   "metadata": {},
   "source": [
    "### Q4 & Q5. In a group of 50 students:  \n",
    "30 study Physics, 25 study Chemistry, and 15 study both.  \n",
    "Find the probability that a randomly selected student studies only Physics.\n"
   ]
  },
  {
   "cell_type": "code",
   "execution_count": 29,
   "id": "a764d03e",
   "metadata": {},
   "outputs": [
    {
     "name": "stdout",
     "output_type": "stream",
     "text": [
      "Answer Q4/Q5: Probability(student studies only Physics) = 0.3 → 30%\n"
     ]
    }
   ],
   "source": [
    "\n",
    "total = 50\n",
    "physics = 30\n",
    "chemistry = 25\n",
    "both = 15\n",
    "only_physics = physics - both\n",
    "p_only_physics = only_physics / total\n",
    "\n",
    "print(\"Answer Q4/Q5: Probability(student studies only Physics) =\", p_only_physics, \"→ 30%\")\n"
   ]
  },
  {
   "cell_type": "code",
   "execution_count": 19,
   "id": "097f0782-9605-4925-8c08-cf13a2caa41b",
   "metadata": {},
   "outputs": [
    {
     "name": "stdout",
     "output_type": "stream",
     "text": [
      "Answer Q4/Q5:\n",
      "50 students, 30 study Physics, 25 study Chemistry, 15 study both\n",
      "\n",
      "Student distribution:\n",
      "Total students: 50\n",
      "Physics only: 15\n",
      "Chemistry only: 10\n",
      "Both subjects: 15\n",
      "Neither subject: 10\n",
      "\n",
      "Check: 15 + 10 + 15 + 10 = 50 ✓\n",
      "\n",
      "Probability(student studies only Physics = 15/50 = 0.3000\n",
      "                            = 30.0%\n"
     ]
    },
    {
     "data": {
      "image/png": "[encoded data removed]",
      "text/plain": [
       "<Figure size 800x600 with 1 Axes>"
      ]
     },
     "metadata": {},
     "output_type": "display_data"
    }
   ],
   "source": [
    "print(\"Answer Q4/Q5:\")\n",
    "print(\"50 students, 30 study Physics, 25 study Chemistry, 15 study both\")\n",
    "\n",
    "total = 50\n",
    "physics = 30\n",
    "chemistry = 25\n",
    "both = 15\n",
    "\n",
    "# Calculate the regions\n",
    "only_physics = physics - both\n",
    "only_chemistry = chemistry - both\n",
    "neither = total - (only_physics + only_chemistry + both)\n",
    "\n",
    "print(\"\\nStudent distribution:\")\n",
    "print(f\"Total students: {total}\")\n",
    "print(f\"Physics only: {only_physics}\")\n",
    "print(f\"Chemistry only: {only_chemistry}\")\n",
    "print(f\"Both subjects: {both}\")\n",
    "print(f\"Neither subject: {neither}\")\n",
    "\n",
    "# Check our calculation\n",
    "check = only_physics + only_chemistry + both + neither\n",
    "print(f\"\\nCheck: {only_physics} + {only_chemistry} + {both} + {neither} = {check} ✓\")\n",
    "\n",
    "# Probability of only Physics\n",
    "prob_only_physics = only_physics / total\n",
    "print(f\"\\nProbability(student studies only Physics = {only_physics}/{total} = {prob_only_physics:.4f}\")\n",
    "print(f\"                            = {prob_only_physics*100:.1f}%\")\n",
    "\n",
    "\n",
    "# Draw simple Venn diagram using matplotlib_venn\n",
    "import matplotlib.pyplot as plt\n",
    "from matplotlib_venn import venn2\n",
    "\n",
    "plt.figure(figsize=(8, 6))\n",
    "venn2(subsets=(only_physics, only_chemistry, both), \n",
    "      set_labels=('Physics', 'Chemistry'))\n",
    "plt.title(\"Student Subject Distribution\")\n",
    "plt.show()"
   ]
  },
  {
   "cell_type": "code",
   "execution_count": null,
   "id": "8c931b45-9b70-46af-8ef0-93bc7fbe1650",
   "metadata": {},
   "outputs": [],
   "source": []
  }
 ],
 "metadata": {
  "kernelspec": {
   "display_name": "Python 3 (ipykernel)",
   "language": "python",
   "name": "python3"
  },
  "language_info": {
   "codemirror_mode": {
    "name": "ipython",
    "version": 3
   },
   "file_extension": ".py",
   "mimetype": "text/x-python",
   "name": "python",
   "nbconvert_exporter": "python",
   "pygments_lexer": "ipython3",
   "version": "3.12.4"
  }
 },
 "nbformat": 4,
 "nbformat_minor": 5
}
